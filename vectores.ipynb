{
  "nbformat": 4,
  "nbformat_minor": 0,
  "metadata": {
    "colab": {
      "provenance": [],
      "authorship_tag": "ABX9TyOMsF/HfRI21Aic7LRKay5A",
      "include_colab_link": true
    },
    "kernelspec": {
      "name": "python3",
      "display_name": "Python 3"
    },
    "language_info": {
      "name": "python"
    }
  },
  "cells": [
    {
      "cell_type": "markdown",
      "metadata": {
        "id": "view-in-github",
        "colab_type": "text"
      },
      "source": [
        "<a href=\"https://colab.research.google.com/github/lui0slpk/Arreglos_12_08_2025/blob/main/vectores.ipynb\" target=\"_parent\"><img src=\"https://colab.research.google.com/assets/colab-badge.svg\" alt=\"Open In Colab\"/></a>"
      ]
    },
    {
      "cell_type": "markdown",
      "source": [
        "Los vectores son reserva de memoria para almacenar información, solo puede ser de un tipo, si es numérico, si es texto, debe continuar siendo texto, esto aplica para las matrices.\n",
        "Los arreglos son identificadores estaticos, esto significa que es otra forma de definir, variables y constantes."
      ],
      "metadata": {
        "id": "_f0bf50JVPLe"
      }
    },
    {
      "cell_type": "code",
      "source": [
        "import numpy as np\n",
        "import os\n",
        "\n",
        "vector = np.array([1,2,3,4,5])\n",
        "print(vector)\n",
        "\n",
        "print(vector[2])\n",
        "\n",
        "\"\"\"Los vectores no son como las listas, no tienen un método append() para agregar elementos no tienen un método pop() para eliminar elementos, pero sí tienen método reshape() para cambiar su forma, adicionalmente después creado no se puede cambiar el tamaño del vector\"\"\"\n",
        "\n",
        "vector1 = np.zeros(5)\n",
        "print(vector1)\n",
        "vector2 = np.ones(5)\n",
        "print(vector2)\n",
        "vector3 = np.arange(1,10)\n",
        "print(\"rango \", vector3)\n",
        "vector4 = np.linspace(1,5,10)\n",
        "print(vector4)\n",
        "vector5 = np.random.rand(10)\n",
        "print(\"ramdom \",vector5)\n",
        "vector6 = np.random.randint(1,10,10)\n",
        "print(\"randint\",vector6)\n"
      ],
      "metadata": {
        "colab": {
          "base_uri": "https://localhost:8080/"
        },
        "id": "BQyDhNOBVuCG",
        "outputId": "f40efe43-8ffd-4f92-f823-f6a466e244b8"
      },
      "execution_count": null,
      "outputs": [
        {
          "output_type": "stream",
          "name": "stdout",
          "text": [
            "[1 2 3 4 5]\n",
            "3\n",
            "[0. 0. 0. 0. 0.]\n",
            "[1. 1. 1. 1. 1.]\n",
            "rango  [1 2 3 4 5 6 7 8 9]\n",
            "[1.         1.44444444 1.88888889 2.33333333 2.77777778 3.22222222\n",
            " 3.66666667 4.11111111 4.55555556 5.        ]\n",
            "ramdom  [0.39814942 0.02078757 0.61019977 0.23494685 0.6793804  0.25313915\n",
            " 0.86002427 0.24670628 0.48273421 0.81307864]\n",
            "randint [4 5 5 5 6 7 1 4 5 1]\n"
          ]
        }
      ]
    },
    {
      "cell_type": "code",
      "source": [
        "import numpy as np\n",
        "vector1 = np.array([1,2,3])\n",
        "vector2 = np.array([4,5,6])\n",
        "suma = vector1 + vector2\n",
        "print(\"suma de vectores: \", suma)\n",
        "\n",
        "producto = vector1 * vector2\n",
        "print(\"Producto de vectores: \", producto)\n",
        "\n",
        "division = vector1 / vector2\n",
        "print(\"División de vectores: \", division)\n",
        "\n",
        "resta = vector1 - vector2\n",
        "print(\"Resta de vectores: \", resta)\n",
        "\n",
        "potencia = vector1 ** 2\n",
        "print(\"Potencia de vectores: \", potencia)\n",
        "\n"
      ],
      "metadata": {
        "colab": {
          "base_uri": "https://localhost:8080/"
        },
        "id": "op8OhnWxrODb",
        "outputId": "58f9cb53-1d8f-4d1a-cb49-f16b26025db2"
      },
      "execution_count": 2,
      "outputs": [
        {
          "output_type": "stream",
          "name": "stdout",
          "text": [
            "suma de vectores:  [5 7 9]\n",
            "Producto de vectores:  [ 4 10 18]\n",
            "División de vectores:  [0.25 0.4  0.5 ]\n",
            "Resta de vectores:  [-3 -3 -3]\n",
            "Potencia de vectores:  [1 4 9]\n"
          ]
        }
      ]
    }
  ]
}
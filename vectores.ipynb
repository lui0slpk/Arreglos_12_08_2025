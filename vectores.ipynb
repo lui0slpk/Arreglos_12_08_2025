{
  "nbformat": 4,
  "nbformat_minor": 0,
  "metadata": {
    "colab": {
      "provenance": [],
      "authorship_tag": "ABX9TyNe0Xm3flDeZaygbsVPrnv/",
      "include_colab_link": true
    },
    "kernelspec": {
      "name": "python3",
      "display_name": "Python 3"
    },
    "language_info": {
      "name": "python"
    }
  },
  "cells": [
    {
      "cell_type": "markdown",
      "metadata": {
        "id": "view-in-github",
        "colab_type": "text"
      },
      "source": [
        "<a href=\"https://colab.research.google.com/github/lui0slpk/Arreglos_12_08_2025/blob/main/vectores.ipynb\" target=\"_parent\"><img src=\"https://colab.research.google.com/assets/colab-badge.svg\" alt=\"Open In Colab\"/></a>"
      ]
    },
    {
      "cell_type": "markdown",
      "source": [
        "Los vectores son reserva de memoria para almacenar información, solo puede ser de un tipo, si es numérico, si es texto, debe continuar siendo texto, esto aplica para las matrices.\n",
        "Los arreglos son identificadores estaticos, esto significa que es otra forma de definir, variables y constantes."
      ],
      "metadata": {
        "id": "_f0bf50JVPLe"
      }
    },
    {
      "cell_type": "code",
      "source": [
        "import numpy as np\n",
        "import os\n",
        "\n",
        "vector = np.array([1,2,3,4,5])\n",
        "print(vector)\n",
        "\n",
        "print(vector[2])\n",
        "\n",
        "\"\"\"Los vectores no son como las listas, no tienen un método append() para agregar elementos no tienen un método pop() para eliminar elementos, pero sí tienen método reshape() para cambiar su forma, adicionalmente después creado no se puede cambiar el tamaño del vector\"\"\"\n",
        "\n",
        "vector1 = np.zeros(5)\n",
        "print(vector1)\n",
        "vector2 = np.ones(5)\n",
        "print(vector2)\n",
        "vector3 = np.arange(1,10)\n",
        "print(\"rango \", vector3)\n",
        "vector4 = np.linspace(1,5,10)\n",
        "print(vector4)\n",
        "vector5 = np.random.rand(10)\n",
        "print(\"ramdom \",vector5)\n",
        "vector6 = np.random.randint(1,10,10)\n",
        "print(\"randint\",vector6)\n"
      ],
      "metadata": {
        "colab": {
          "base_uri": "https://localhost:8080/"
        },
        "id": "BQyDhNOBVuCG",
        "outputId": "f40efe43-8ffd-4f92-f823-f6a466e244b8"
      },
      "execution_count": null,
      "outputs": [
        {
          "output_type": "stream",
          "name": "stdout",
          "text": [
            "[1 2 3 4 5]\n",
            "3\n",
            "[0. 0. 0. 0. 0.]\n",
            "[1. 1. 1. 1. 1.]\n",
            "rango  [1 2 3 4 5 6 7 8 9]\n",
            "[1.         1.44444444 1.88888889 2.33333333 2.77777778 3.22222222\n",
            " 3.66666667 4.11111111 4.55555556 5.        ]\n",
            "ramdom  [0.39814942 0.02078757 0.61019977 0.23494685 0.6793804  0.25313915\n",
            " 0.86002427 0.24670628 0.48273421 0.81307864]\n",
            "randint [4 5 5 5 6 7 1 4 5 1]\n"
          ]
        }
      ]
    },
    {
      "cell_type": "code",
      "source": [
        "import numpy as np\n",
        "vector1 = np.array([1,2,3])\n",
        "vector2 = np.array([4,5,6])\n",
        "suma = vector1 + vector2\n",
        "print(\"suma de vectores: \", suma)\n",
        "\n",
        "producto = vector1 * vector2\n",
        "print(\"Producto de vectores: \", producto)\n",
        "\n",
        "division = vector1 / vector2\n",
        "print(\"División de vectores: \", division)\n",
        "\n",
        "resta = vector1 - vector2\n",
        "print(\"Resta de vectores: \", resta)\n",
        "\n",
        "potencia = vector1 ** 2\n",
        "print(\"Potencia de vectores: \", potencia)\n",
        "\n"
      ],
      "metadata": {
        "colab": {
          "base_uri": "https://localhost:8080/"
        },
        "id": "op8OhnWxrODb",
        "outputId": "58f9cb53-1d8f-4d1a-cb49-f16b26025db2"
      },
      "execution_count": 2,
      "outputs": [
        {
          "output_type": "stream",
          "name": "stdout",
          "text": [
            "suma de vectores:  [5 7 9]\n",
            "Producto de vectores:  [ 4 10 18]\n",
            "División de vectores:  [0.25 0.4  0.5 ]\n",
            "Resta de vectores:  [-3 -3 -3]\n",
            "Potencia de vectores:  [1 4 9]\n"
          ]
        }
      ]
    },
    {
      "cell_type": "code",
      "source": [
        "import numpy as np\n",
        "\n",
        "matriz = np.random.randint(0, 100, (3,3))  # números aleatorios de 0 a 100 con una matriz de 3x3\n",
        "print(matriz)\n",
        "\n",
        "matriz2 = np.random.Generator(np.random.PCG64()).integers(0,100, (3,3))\n",
        "print(matriz2)\n",
        "\n",
        "matriz_identidad = np.eye(3)\n",
        "print(\"\\033[31m\", matriz_identidad, \"\\033[0m\")\n",
        "\n",
        "print(\"\\033[30m\",\"-------------------------------------------------------------\", \"\\033[0m\")\n",
        "# transponer\n",
        "\n",
        "matriz_transpuesta = matriz.T\n",
        "\n",
        "print(\"\\033[33m\", matriz_transpuesta, \"\\033[0m\")\n",
        "\n",
        "matriz_zeros= np.zeros((2, 2))\n",
        "print(\"\\033[32m\", matriz_zeros, \"\\033[0m\")\n",
        "print(\"\\033[31m\", \"----------llenar la diagonal de 1-----------------\",\"\\033[0m\")\n",
        "\n",
        "for  incrementador in range(2):\n",
        "    matriz_zeros[incrementador][incrementador] = 1\n",
        "print(\"\\033[34m\", matriz_zeros, \"\\033[0m\")\n",
        "\n",
        "for fila in range(2):\n",
        "    for columna in range(2):\n",
        "        matriz_zeros[fila][columna] = np.random.randint(0, 10)\n",
        "print(\"\\033[35m\", matriz_zeros, \"\\033[30m\")\n",
        "\n"
      ],
      "metadata": {
        "colab": {
          "base_uri": "https://localhost:8080/"
        },
        "id": "vFKBB7Nh914s",
        "outputId": "4738f494-6ca9-4e9c-e8f0-b896554c71bc"
      },
      "execution_count": 3,
      "outputs": [
        {
          "output_type": "stream",
          "name": "stdout",
          "text": [
            "[[ 0 61 35]\n",
            " [60 17 12]\n",
            " [24 30 54]]\n",
            "[[96 20 14]\n",
            " [57 97 52]\n",
            " [66 85 23]]\n",
            "\u001b[31m [[1. 0. 0.]\n",
            " [0. 1. 0.]\n",
            " [0. 0. 1.]] \u001b[0m\n",
            "\u001b[30m ------------------------------------------------------------- \u001b[0m\n",
            "\u001b[33m [[ 0 60 24]\n",
            " [61 17 30]\n",
            " [35 12 54]] \u001b[0m\n",
            "\u001b[32m [[0. 0.]\n",
            " [0. 0.]] \u001b[0m\n",
            "\u001b[31m ----------llenar la diagonal de 1----------------- \u001b[0m\n",
            "\u001b[34m [[1. 0.]\n",
            " [0. 1.]] \u001b[0m\n",
            "\u001b[35m [[4. 2.]\n",
            " [2. 6.]] \u001b[30m\n"
          ]
        }
      ]
    }
  ]
}